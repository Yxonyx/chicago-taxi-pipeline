{
 "cells": [
  {
   "cell_type": "code",
   "execution_count": null,
   "id": "7af4e85a",
   "metadata": {},
   "outputs": [],
   "source": [
    "from datetime import datetime\n",
    "from dateutil.relativedelta import relativedelta\n",
    "import json\n",
    "import os\n",
    "\n",
    "import pandas as pd\n",
    "pd.set_option(\"display.max_columns\", 30)\n",
    "\n",
    "import requests\n"
   ]
  },
  {
   "cell_type": "code",
   "execution_count": null,
   "id": "150d6aeb",
   "metadata": {},
   "outputs": [],
   "source": [
    "current_datetime = datetime.now() - relativedelta(months=0)\n",
    "formatted_datetime = current_datetime.strftime(\"%Y-%m-%d\")\n",
    "# API endpoint konkrét trip_id-val\n",
    "url = \"https://data.cityofchicago.org/resource/ajtu-isnz.json\"\n",
    "# API token (opcionális, de ajánlott ha van)\n",
    "headers = {\"X-App-Token\": os.environ.get(\"CHICAGO_API_TOKEN\")}\n",
    "# Lekérés\n",
    "response = requests.get(url, headers=headers)\n",
    "# JSON adat átalakítása\n",
    "data = response.json()"
   ]
  },
  {
   "cell_type": "code",
   "execution_count": null,
   "id": "e7z6ggzviqc",
   "metadata": {},
   "outputs": [],
   "source": [
    "taxi_trips = pd.DataFrame(data)"
   ]
  },
  {
   "cell_type": "code",
   "execution_count": null,
   "id": "49d2dfd0",
   "metadata": {},
   "outputs": [],
   "source": [
    "# Felesleges oszlopok eltávolítása (csak ha léteznek)\n",
    "columns_to_drop = [\"pickup_census_tract\", \"dropoff_census_tract\", \"pickup_centroid_location\", \"dropoff_centroid_location\"]\n",
    "existing_columns = [col for col in columns_to_drop if col in taxi_trips.columns]\n",
    "\n",
    "if existing_columns:\n",
    "    taxi_trips.drop(existing_columns, axis=1, inplace=True)\n",
    "\n",
    "# Hiányzó sorok kiszűrése\n",
    "taxi_trips.dropna(inplace=True)\n",
    "\n",
    "# Oszlopok átnevezése ID formára (csak ha léteznek)\n",
    "if \"pickup_community_area\" in taxi_trips.columns:\n",
    "    taxi_trips.rename(columns={\"pickup_community_area\": \"pickup_community_area_id\"}, inplace=True)\n",
    "\n",
    "if \"dropoff_community_area\" in taxi_trips.columns:\n",
    "    taxi_trips.rename(columns={\"dropoff_community_area\": \"dropoff_community_area_id\"}, inplace=True)\n",
    "\n",
    "# Új oszlop: órára kerekített kezdési időpont (időjárási join-hoz)\n",
    "if \"trip_start_timestamp\" in taxi_trips.columns:\n",
    "    taxi_trips[\"datetime_for_weather\"] = pd.to_datetime(\n",
    "        taxi_trips[\"trip_start_timestamp\"]\n",
    "    ).dt.floor(\"h\")"
   ]
  },
  {
   "cell_type": "code",
   "execution_count": null,
   "id": "8ea65584",
   "metadata": {},
   "outputs": [],
   "source": [
    "taxi_trips.head()"
   ]
  },
  {
   "cell_type": "code",
   "execution_count": null,
   "id": "bee21841",
   "metadata": {},
   "outputs": [],
   "source": [
    "def taxi_trips_transformations(taxi_trips: pd.DataFrame) -> pd.DataFrame:\n",
    "    \"\"\"\n",
    "    Perform transformations with the taxi data.\n",
    "\n",
    "    Parameters\n",
    "    ----------\n",
    "    taxi_trips : pd.DataFrame\n",
    "        The DataFrame holding the daily taxi trips.\n",
    "\n",
    "    Returns\n",
    "    -------\n",
    "    pd.DataFrame\n",
    "        The cleaned, transformed DataFrame holding the daily taxi trips.\n",
    "    \"\"\"\n",
    "\n",
    "    # Felesleges oszlopok eldobása\n",
    "    taxi_trips.drop(\n",
    "        [\"pickup_census_tract\", \"dropoff_census_tract\",\n",
    "         \"pickup_centroid_location\", \"dropoff_centroid_location\"],\n",
    "        axis=1, inplace=True\n",
    "    )\n",
    "\n",
    "    # Hiányzó sorok törlése\n",
    "    taxi_trips.dropna(inplace=True)\n",
    "\n",
    "    # Oszlopok átnevezése\n",
    "    taxi_trips.rename(columns={\n",
    "        \"pickup_community_area\": \"pickup_community_area_id\",\n",
    "        \"dropoff_community_area\": \"dropoff_community_area_id\"\n",
    "    }, inplace=True)\n",
    "\n",
    "    # Új oszlop: órára kerekített kezdési időpont\n",
    "    taxi_trips[\"datetime_for_weather\"] = pd.to_datetime(\n",
    "        taxi_trips[\"trip_start_timestamp\"], errors=\"coerce\"\n",
    "    ).dt.floor(\"h\")\n",
    "\n",
    "    return taxi_trips"
   ]
  },
  {
   "cell_type": "code",
   "execution_count": null,
   "id": "293e28b2",
   "metadata": {},
   "outputs": [],
   "source": [
    "print(taxi_trips.head())"
   ]
  },
  {
   "cell_type": "code",
   "execution_count": null,
   "id": "d2ec0a12",
   "metadata": {},
   "outputs": [],
   "source": [
    "print(taxi_trips.dtypes)"
   ]
  },
  {
   "cell_type": "code",
   "execution_count": null,
   "id": "8400061f",
   "metadata": {},
   "outputs": [],
   "source": [
    "def taxi_trips_transformations(taxi_trips: pd.DataFrame) -> pd.DataFrame:\n",
    "    \"\"\"\n",
    "    Perform transformations with the taxi data.\n",
    "\n",
    "    Parameters\n",
    "    ----------\n",
    "    taxi_trips : pd.DataFrame\n",
    "        The DataFrame holding the daily taxi trips\n",
    "\n",
    "    Returns\n",
    "    -------\n",
    "    pd.DataFrame\n",
    "        The cleaned, transformed DataFrame holding the daily taxi trips.\n",
    "    \"\"\"\n",
    "\n",
    "    if not isinstance(taxi_trips, pd.DataFrame):\n",
    "        raise TypeError(\"taxi_trips is not a valid pandas DataFrame.\")\n",
    "\n",
    "    taxi_trips.drop(\n",
    "        [\"pickup_census_tract\", \"dropoff_census_tract\",\n",
    "         \"pickup_centroid_location\", \"dropoff_centroid_location\"],\n",
    "        axis=1, inplace=True\n",
    "    )\n",
    "\n",
    "    taxi_trips.dropna(inplace=True)\n",
    "\n",
    "    taxi_trips.rename(\n",
    "        columns={\n",
    "            \"pickup_community_area\": \"pickup_community_area_id\",\n",
    "            \"dropoff_community_area\": \"dropoff_community_area_id\"\n",
    "        },\n",
    "        inplace=True\n",
    "    )\n",
    "\n",
    "    taxi_trips[\"datetime_for_weather\"] = pd.to_datetime(\n",
    "        taxi_trips[\"trip_start_timestamp\"]\n",
    "    ).dt.floor(\"h\")\n",
    "\n",
    "    return taxi_trips"
   ]
  },
  {
   "cell_type": "code",
   "execution_count": null,
   "id": "e1ff3995",
   "metadata": {},
   "outputs": [],
   "source": [
    "company_master = taxi_trips[\"company\"].drop_duplicates().reset_index(drop=True)\n",
    "\n",
    "company_master = pd.DataFrame(\n",
    "    {\n",
    "        \"company_id\": range(1, len(company_master) + 1),\n",
    "        \"company\": company_master\n",
    "    }\n",
    ")\n",
    "\n",
    "company_master.tail()\n"
   ]
  },
  {
   "cell_type": "code",
   "execution_count": null,
   "id": "c6f128de",
   "metadata": {},
   "outputs": [],
   "source": [
    "new_company_data = [\n",
    "    {\"company\": \"6574 - Babylon Express Inc.\"},\n",
    "    {\"company\": \"X\"},\n",
    "    {\"company\": \"Y\"}\n",
    "]\n",
    "\n",
    "new_company_mapping = pd.DataFrame(new_company_data)\n",
    "\n",
    "new_company_mapping\n"
   ]
  },
  {
   "cell_type": "code",
   "execution_count": null,
   "id": "0118df82",
   "metadata": {},
   "outputs": [],
   "source": [
    "for company in new_company_mapping[\"company\"].values:\n",
    "    if company not in company_master[\"company\"].values:\n",
    "        print(company)\n"
   ]
  },
  {
   "cell_type": "code",
   "execution_count": null,
   "id": "14728e87",
   "metadata": {},
   "outputs": [],
   "source": [
    "company_max_id = company_master[\"company_id\"].max()\n",
    "company_max_id\n"
   ]
  },
  {
   "cell_type": "code",
   "execution_count": null,
   "id": "c9fbe00a",
   "metadata": {},
   "outputs": [],
   "source": [
    "new_companies_list = []\n",
    "\n",
    "for company in new_company_mapping[\"company\"].values:\n",
    "    if company not in company_master[\"company\"].values:\n",
    "        new_companies_list.append(company)\n",
    "\n",
    "\n"
   ]
  },
  {
   "cell_type": "code",
   "execution_count": null,
   "id": "58875bd1",
   "metadata": {},
   "outputs": [],
   "source": [
    "new_companies_df = pd.DataFrame({\n",
    "    \"company_id\": range(company_max_id + 1, company_max_id + len(new_companies_list) + 1),\n",
    "    \"company\": new_companies_list  \n",
    "})\n",
    "new_companies_df"
   ]
  },
  {
   "cell_type": "code",
   "execution_count": null,
   "id": "c47545ac",
   "metadata": {},
   "outputs": [],
   "source": [
    "updated_company_master = pd.concat([company_master, new_companies_df], ignore_index=True)\n",
    "\n",
    "updated_company_master.tail()\n"
   ]
  },
  {
   "cell_type": "code",
   "execution_count": null,
   "id": "5c69b12f",
   "metadata": {},
   "outputs": [],
   "source": [
    "def update_company_master(taxi_trips: pd.DataFrame, company_master: pd.DataFrame) -> pd.DataFrame:\n",
    "    company_max_id = company_master[\"company_id\"].max()\n",
    "    \n",
    "    new_companies_list = [\n",
    "        company for company in taxi_trips[\"company\"].values \n",
    "        if company not in company_master[\"company\"].values\n",
    "    ]\n",
    "    \n",
    "    new_companies_df = pd.DataFrame({\n",
    "        \"company_id\": range(company_max_id + 1, company_max_id + len(new_companies_list) + 1),\n",
    "        \"company\": new_companies_list\n",
    "    })\n",
    "\n",
    "    updated_company_master = pd.concat([company_master, new_companies_df], ignore_index=True)\n",
    "    \n",
    "    return updated_company_master\n"
   ]
  },
  {
   "cell_type": "code",
   "execution_count": null,
   "id": "2defb69e",
   "metadata": {},
   "outputs": [],
   "source": [
    "test_df = update_company_master(taxi_trips=taxi_trips, company_master=company_master)\n",
    "test_df\n"
   ]
  },
  {
   "cell_type": "code",
   "execution_count": null,
   "id": "7fde7323",
   "metadata": {},
   "outputs": [],
   "source": [
    "taxi_trips_company_only = pd.DataFrame({\n",
    "    \"company_id\": [1, 2, 3],\n",
    "    \"company\": [\"6574 - Babylon Express Inc.\", \"X\", \"Y\"]\n",
    "})\n",
    "\n",
    "taxi_trips_company_only\n"
   ]
  },
  {
   "cell_type": "code",
   "execution_count": null,
   "id": "46218014",
   "metadata": {},
   "outputs": [],
   "source": [
    "# taxi_trips_company_only DataFrame létrehozása\n",
    "taxi_trips_company_only = pd.DataFrame({\n",
    "    \"company_id\": [1, 2, 3],\n",
    "    \"company\": [\"6574 - Babylon Express Inc.\", \"X\", \"Y\"]\n",
    "})\n",
    "\n",
    "taxi_trips_company_only\n"
   ]
  },
  {
   "cell_type": "code",
   "execution_count": null,
   "id": "94e1116b",
   "metadata": {},
   "outputs": [],
   "source": [
    "# update_company_master futtatása\n",
    "updated_company_master = update_company_master(\n",
    "    taxi_trips=taxi_trips_company_only,\n",
    "    company_master=company_master\n",
    ")\n",
    "\n",
    "# új cégek hozzáadva a végéhez\n",
    "updated_company_master.tail()\n"
   ]
  },
  {
   "cell_type": "code",
   "execution_count": null,
   "id": "6de756b5",
   "metadata": {},
   "outputs": [],
   "source": [
    "payment_type_master = taxi_trips[\"payment_type\"].drop_duplicates().reset_index(drop=True)\n",
    "\n",
    "payment_type_master = pd.DataFrame({\n",
    "\"payment_type_id\": range(1, len(payment_type_master) + 1),\n",
    "\"payment_type\": payment_type_master\n",
    "})\n",
    "\n",
    "taxi_trips_payment_type_only = pd.DataFrame({\n",
    "\"payment_type_id\": [1, 2, 3],\n",
    "\"payment_type\": [\"Credit Card\", \"X\", \"Y\"]\n",
    "})\n",
    "\n",
    "taxi_trips_payment_type_only\n"
   ]
  },
  {
   "cell_type": "code",
   "execution_count": null,
   "id": "ab1b6042",
   "metadata": {},
   "outputs": [],
   "source": [
    "def update_payment_type_master(taxi_trips: pd.DataFrame, payment_type_master: pd.DataFrame) -> pd.DataFrame:\n",
    "    \"\"\"\n",
    "    Extend the payment type master with new payment types if there are new payment types.\n",
    "\n",
    "    Parameters\n",
    "    ----------\n",
    "    taxi_trips : pd.DataFrame\n",
    "        DataFrame holding the daily taxi trips.\n",
    "    payment_type_master : pd.DataFrame\n",
    "        DataFrame holding the payment_type_master data.\n",
    "\n",
    "    Returns\n",
    "    -------\n",
    "    pd.DataFrame\n",
    "        The updated payment_type_master data, if new payment types are in the taxi data, \n",
    "        they will be loaded to it.\n",
    "    \"\"\"\n",
    "    # Maximum meglévő payment_type_id\n",
    "    payment_type_max_id = payment_type_master[\"payment_type_id\"].max()\n",
    "\n",
    "    # Új payment_type lista\n",
    "    new_payment_types_list = [\n",
    "        payment_type for payment_type in taxi_trips[\"payment_type\"].values\n",
    "        if payment_type not in payment_type_master[\"payment_type\"].values\n",
    "    ]\n",
    "\n",
    "    # Új DataFrame az új payment típusoknak\n",
    "    new_payment_type_df = pd.DataFrame({\n",
    "        \"payment_type_id\": range(payment_type_max_id + 1, payment_type_max_id + len(new_payment_types_list) + 1),\n",
    "        \"payment_type\": new_payment_types_list\n",
    "    })\n",
    "\n",
    "    # Összefűzés a régivel\n",
    "    updated_payment_type_master = pd.concat([payment_type_master, new_payment_type_df], ignore_index=True)\n",
    "\n",
    "    return updated_payment_type_master\n"
   ]
  },
  {
   "cell_type": "code",
   "execution_count": null,
   "id": "c4ddf78a",
   "metadata": {},
   "outputs": [],
   "source": [
    "updated_payment_type_master = update_payment_type_master(\n",
    "    taxi_trips=taxi_trips_payment_type_only,\n",
    "    payment_type_master=payment_type_master\n",
    ")"
   ]
  },
  {
   "cell_type": "code",
   "execution_count": null,
   "id": "49459c14",
   "metadata": {},
   "outputs": [],
   "source": [
    "print(updated_payment_type_master)"
   ]
  },
  {
   "cell_type": "code",
   "execution_count": null,
   "id": "d2488eaa",
   "metadata": {},
   "outputs": [],
   "source": [
    "def update_master(taxi_trips: pd.DataFrame, master: pd.DataFrame, id_column: str, value_column: str) -> pd.DataFrame:\n",
    "    \"\"\"\n",
    "    Extend the master DataFrame with new values if there are any.\n",
    "\n",
    "    Parameters\n",
    "    ----------\n",
    "    taxi_trips : pd.DataFrame\n",
    "        DataFrame holding the daily taxi trips.\n",
    "    master : pd.DataFrame\n",
    "        DataFrame holding the master data.\n",
    "    id_column : str\n",
    "        The id column of the master DataFrame.\n",
    "    value_column : str\n",
    "        The value column to compare and extend.\n",
    "\n",
    "    Returns\n",
    "    -------\n",
    "    pd.DataFrame\n",
    "        The updated master data, if new values are in the taxi data, they will be loaded to it.\n",
    "    \"\"\"\n",
    "\n",
    "    max_id = master[id_column].max()\n",
    "\n",
    "    new_values_list = [\n",
    "        value for value in taxi_trips[value_column].values\n",
    "        if value not in master[value_column].values\n",
    "    ]\n",
    "\n",
    "    new_values_df = pd.DataFrame({\n",
    "        id_column: range(max_id + 1, max_id + len(new_values_list) + 1),\n",
    "        value_column: new_values_list\n",
    "    })\n",
    "\n",
    "    updated_master = pd.concat([master, new_values_df], ignore_index=True)\n",
    "\n",
    "    return updated_master\n"
   ]
  },
  {
   "cell_type": "code",
   "execution_count": null,
   "id": "2f0f073e",
   "metadata": {},
   "outputs": [],
   "source": [
    "test_payment_type_master = update_master(\n",
    "    taxi_trips=taxi_trips,\n",
    "    master=payment_type_master,\n",
    "    id_column=\"payment_type_id\",\n",
    "    value_column=\"payment_type\"\n",
    ")\n"
   ]
  },
  {
   "cell_type": "code",
   "execution_count": null,
   "id": "497d75ee",
   "metadata": {},
   "outputs": [],
   "source": [
    "test_payment_type_master"
   ]
  },
  {
   "cell_type": "code",
   "execution_count": null,
   "id": "dfed0046",
   "metadata": {},
   "outputs": [],
   "source": [
    "test_company_master = update_master(\n",
    "    taxi_trips=taxi_trips_company_only,\n",
    "    master=company_master,\n",
    "    id_column=\"company_id\",\n",
    "    value_column=\"company\"\n",
    ")\n",
    "\n",
    "test_company_master.tail()\n"
   ]
  },
  {
   "cell_type": "code",
   "execution_count": null,
   "id": "fd465310",
   "metadata": {},
   "outputs": [],
   "source": [
    "def update_taxi_trips_with_master_data(\n",
    "    taxi_trips: pd.DataFrame, \n",
    "    payment_type_master: pd.DataFrame, \n",
    "    company_master: pd.DataFrame\n",
    ") -> pd.DataFrame:\n",
    "    \"\"\"\n",
    "    Update the taxi_trips DataFrame with the company_master and payment_type_master ids,\n",
    "    and delete the string columns.\n",
    "\n",
    "    Parameters\n",
    "    ----------\n",
    "    taxi_trips : pd.DataFrame\n",
    "        The DataFrame with the daily taxi trips.\n",
    "    payment_type_master : pd.DataFrame\n",
    "        The payment type master table.\n",
    "    company_master : pd.DataFrame\n",
    "        The company master table.\n",
    "\n",
    "    Returns\n",
    "    -------\n",
    "    pd.DataFrame\n",
    "        The taxi trips data, with only payment_type_id and company_id, no string columns.\n",
    "    \"\"\"\n",
    "    taxi_trips_id = taxi_trips.merge(payment_type_master, on=\"payment_type\")\n",
    "    taxi_trips_id = taxi_trips_id.merge(company_master, on=\"company\")\n",
    "\n",
    "    taxi_trips_id.drop([\"payment_type\", \"company\"], axis=1, inplace=True)\n",
    "\n",
    "    return taxi_trips_id"
   ]
  },
  {
   "cell_type": "code",
   "execution_count": null,
   "id": "ee0bd042",
   "metadata": {},
   "outputs": [],
   "source": [
    "taxi_trips_id = update_taxi_trips_with_master_data(\n",
    "    taxi_trips=taxi_trips,\n",
    "    payment_type_master=payment_type_master,\n",
    "    company_master=company_master\n",
    ")\n",
    "\n",
    "taxi_trips_id.sample(5)\n"
   ]
  },
  {
   "cell_type": "code",
   "execution_count": null,
   "id": "a34b5c3e",
   "metadata": {},
   "outputs": [],
   "source": [
    "def transform_weather_data(weather_data: json) -> pd.DataFrame:\n",
    "    \"\"\"\n",
    "    Make transformations on the daily weather API response.\n",
    "\n",
    "    Parameters\n",
    "    ----------\n",
    "    weather_data : json\n",
    "        The daily weather data from the Open Meteo API.\n",
    "\n",
    "    Returns\n",
    "    -------\n",
    "    pd.DataFrame\n",
    "        A DataFrame representation of the data.\n",
    "    \"\"\"\n",
    "    weather_data_filtered = {\n",
    "        \"datetime\": weather_data[\"hourly\"][\"time\"],\n",
    "        \"temperature\": weather_data[\"hourly\"][\"temperature_2m\"],\n",
    "        \"wind_speed\": weather_data[\"hourly\"][\"wind_speed_10m\"],\n",
    "        \"rain\": weather_data[\"hourly\"][\"rain\"],\n",
    "        \"precipitation\": weather_data[\"hourly\"][\"precipitation\"],\n",
    "    }\n",
    "\n",
    "    weather_df = pd.DataFrame(weather_data_filtered)\n",
    "\n",
    "    weather_df[\"datetime\"] = pd.to_datetime(weather_df[\"datetime\"])\n",
    "\n",
    "    return weather_df\n"
   ]
  },
  {
   "cell_type": "code",
   "execution_count": null,
   "id": "c0621757",
   "metadata": {},
   "outputs": [],
   "source": [
    "# Test\n",
    "\n",
    "current_datetime = datetime.now() - relativedelta(months=2)\n",
    "formatted_datetime = current_datetime.strftime(\"%Y-%m-%d\")\n",
    "\n",
    "url = \"https://archive-api.open-meteo.com/v1/era5\"\n",
    "\n",
    "params = {\n",
    "    \n",
    "    \"latitude\": 41.85,\n",
    "    \"longitude\": -87.65,\n",
    "    \"start_date\": formatted_datetime,\n",
    "    \"end_date\": formatted_datetime,\n",
    "    \"hourly\": \"temperature_2m,wind_speed_10m,rain,precipitation\"\n",
    "}\n",
    "\n",
    "response = requests.get(url, params=params)\n",
    "\n",
    "weather_data = response.json()\n",
    "\n",
    "weather_data_df = transform_weather_data(weather_data)\n",
    "\n",
    "weather_data_df.head()\n"
   ]
  }
 ],
 "metadata": {
  "kernelspec": {
   "display_name": ".venv",
   "language": "python",
   "name": "python3"
  },
  "language_info": {
   "codemirror_mode": {
    "name": "ipython",
    "version": 3
   },
   "file_extension": ".py",
   "mimetype": "text/x-python",
   "name": "python",
   "nbconvert_exporter": "python",
   "pygments_lexer": "ipython3",
   "version": "3.13.7"
  }
 },
 "nbformat": 4,
 "nbformat_minor": 5
}
