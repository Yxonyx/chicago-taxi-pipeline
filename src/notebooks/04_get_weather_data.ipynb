{
 "cells": [
  {
   "cell_type": "markdown",
   "metadata": {},
   "source": [
    "# Chicago Weather Data Collection\n",
    "**Purpose**: Fetch hourly weather data from Open-Meteo API for Chicago coordinates  \n",
    "**Output**: Weather DataFrame with temperature, wind, precipitation for taxi trip correlation  \n",
    "**Date Range**: Historical data (T-2 months) to match taxi data availability"
   ]
  },
  {
   "cell_type": "code",
   "execution_count": null,
   "metadata": {},
   "outputs": [],
   "source": [
    "import requests\n",
    "import pandas as pd\n",
    "from datetime import datetime\n",
    "from dateutil.relativedelta import relativedelta\n",
    "\n",
    "# Chicago coordinates (matches taxi pickup/dropoff areas)\n",
    "CHICAGO_LAT = 41.85\n",
    "CHICAGO_LON = -87.65"
   ]
  },
  {
   "cell_type": "code",
   "execution_count": null,
   "metadata": {},
   "outputs": [],
   "source": [
    "# Get date 2 months ago for historical weather data\n",
    "target_date = datetime.now() - relativedelta(months=2)\n",
    "date_str = target_date.strftime(\"%Y-%m-%d\")\n",
    "\n",
    "print(f\"Fetching weather data for Chicago on: {date_str}\")"
   ]
  },
  {
   "cell_type": "code",
   "execution_count": null,
   "metadata": {},
   "outputs": [],
   "source": [
    "# Open-Meteo API endpoint for historical weather\n",
    "url = \"https://api.open-meteo.com/v1/forecast\"\n",
    "params = {\n",
    "    \"latitude\": CHICAGO_LAT,\n",
    "    \"longitude\": CHICAGO_LON,\n",
    "    \"start_date\": date_str,\n",
    "    \"end_date\": date_str,\n",
    "    \"hourly\": \"temperature_2m,wind_speed_10m,rain,precipitation\"\n",
    "}\n",
    "\n",
    "# Fetch weather data\n",
    "response = requests.get(url, params=params)\n",
    "response.raise_for_status()\n",
    "weather_data = response.json()\n",
    "\n",
    "print(f\"API Response Status: {response.status_code}\")"
   ]
  },
  {
   "cell_type": "code",
   "execution_count": null,
   "metadata": {},
   "outputs": [],
   "source": [
    "# Transform API response to DataFrame for taxi correlation\n",
    "weather_df = pd.DataFrame({\n",
    "    \"datetime\": pd.to_datetime(weather_data[\"hourly\"][\"time\"]),\n",
    "    \"temperature\": weather_data[\"hourly\"][\"temperature_2m\"],\n",
    "    \"wind_speed\": weather_data[\"hourly\"][\"wind_speed_10m\"], \n",
    "    \"rain\": weather_data[\"hourly\"][\"rain\"],\n",
    "    \"precipitation\": weather_data[\"hourly\"][\"precipitation\"]\n",
    "})\n",
    "\n",
    "print(f\"Weather data retrieved: {len(weather_df)} hourly records\")\n",
    "weather_df.head()"
   ]
  },
  {
   "cell_type": "code",
   "execution_count": null,
   "metadata": {},
   "outputs": [],
   "source": [
    "# Save weather data for taxi correlation pipeline\n",
    "import os\n",
    "output_path = \"csv/chicago_weather.csv\"\n",
    "os.makedirs(os.path.dirname(output_path), exist_ok=True)\n",
    "weather_df.to_csv(output_path, index=False)\n",
    "print(f\"Weather data saved: {output_path}\")"
   ]
  }
 ],
 "metadata": {
  "kernelspec": {
   "display_name": "Python 3",
   "language": "python",
   "name": "python3"
  },
  "language_info": {
   "codemirror_mode": {
    "name": "ipython",
    "version": 3
   },
   "file_extension": ".py",
   "mimetype": "text/x-python",
   "name": "python",
   "nbconvert_exporter": "python",
   "pygments_lexer": "ipython3",
   "version": "3.8.0"
  }
 },
 "nbformat": 4,
 "nbformat_minor": 4
}