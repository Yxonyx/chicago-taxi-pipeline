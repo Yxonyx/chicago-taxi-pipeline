{
 "cells": [
  {
   "cell_type": "code",
   "execution_count": 9,
   "metadata": {},
   "outputs": [
    {
     "name": "stdout",
     "output_type": "stream",
     "text": [
      "50 track betöltve.\n"
     ]
    }
   ],
   "source": [
    "import json\n",
    "from pathlib import Path\n",
    "\n",
    "\n",
    "file_path = \"spotify_playlist.json\"\n",
    "assert Path(file_path).exists(), f\"Nem találom a fájlt: {file_path}\"\n",
    "\n",
    "with open(file_path, \"r\", encoding=\"utf-8\") as f:\n",
    "    data = json.load(f)\n",
    "\n",
    "tracks = data[\"contents\"][\"items\"]\n",
    "print(f\"{len(tracks)} track betöltve.\")\n"
   ]
  },
  {
   "cell_type": "code",
   "execution_count": 10,
   "metadata": {},
   "outputs": [
    {
     "name": "stdout",
     "output_type": "stream",
     "text": [
      "Style\n"
     ]
    }
   ],
   "source": [
    "print(tracks[30][\"name\"])\n"
   ]
  },
  {
   "cell_type": "code",
   "execution_count": 11,
   "metadata": {},
   "outputs": [
    {
     "name": "stdout",
     "output_type": "stream",
     "text": [
      "31309112207\n"
     ]
    }
   ],
   "source": [
    "total_playcount = sum(int(str(t[\"playCount\"]).replace(\",\", \"\")) for t in tracks[:50])\n",
    "print(total_playcount)\n"
   ]
  },
  {
   "cell_type": "code",
   "execution_count": 12,
   "metadata": {},
   "outputs": [
    {
     "name": "stdout",
     "output_type": "stream",
     "text": [
      "The song with the lowest playcount is Si No Estás.\n"
     ]
    }
   ],
   "source": [
    "lowest_track = min(tracks[:50], key=lambda t: int(str(t[\"playCount\"]).replace(\",\", \"\")))\n",
    "print(f\"The song with the lowest playcount is {lowest_track['name']}.\")\n"
   ]
  }
 ],
 "metadata": {
  "kernelspec": {
   "display_name": ".venv",
   "language": "python",
   "name": "python3"
  },
  "language_info": {
   "codemirror_mode": {
    "name": "ipython",
    "version": 3
   },
   "file_extension": ".py",
   "mimetype": "text/x-python",
   "name": "python",
   "nbconvert_exporter": "python",
   "pygments_lexer": "ipython3",
   "version": "3.13.6"
  }
 },
 "nbformat": 4,
 "nbformat_minor": 4
}
