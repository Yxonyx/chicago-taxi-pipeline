{
 "cells": [
  {
   "cell_type": "code",
   "execution_count": null,
   "id": "4d756dbe",
   "metadata": {},
   "outputs": [],
   "source": "# Import libraries for web scraping and data processing\nfrom bs4 import BeautifulSoup\nimport pandas as pd\nimport requests"
  },
  {
   "cell_type": "code",
   "execution_count": null,
   "id": "0fad5f62",
   "metadata": {},
   "outputs": [],
   "source": "# Get Chicago community areas page from Wikipedia\nresponse = requests.get(\"https://en.wikipedia.org/wiki/Community_areas_in_Chicago\")\n\n# Parse HTML content\nsoup = BeautifulSoup(response.content, \"html.parser\")"
  },
  {
   "cell_type": "code",
   "execution_count": null,
   "id": "8d4bbe9a",
   "metadata": {},
   "outputs": [],
   "source": "# Extract and display page title\ntitle = soup.find(id=\"firstHeading\")\nprint(title.string)"
  },
  {
   "cell_type": "code",
   "execution_count": null,
   "id": "8c2d5c20",
   "metadata": {},
   "outputs": [],
   "source": "# Find the main data table with correct CSS classes\ntable = soup.find(\"table\", class_=\"wikitable sortable plainrowheaders mw-datatable\")\nprint(table)"
  },
  {
   "cell_type": "code",
   "execution_count": null,
   "id": "f397f874",
   "metadata": {},
   "outputs": [],
   "source": "# Extract area codes from table rows\nfor row in table.tbody.find_all(\"tr\")[2:-1]:  # Skip header and footer rows\n    cells = row.find_all(\"td\")\n    print(cells[0].get_text().strip())  # First cell contains area code"
  },
  {
   "cell_type": "code",
   "execution_count": null,
   "id": "6865c14b",
   "metadata": {},
   "outputs": [],
   "source": "# Extract community names from header cells\nfor row in table.tbody.find_all(\"tr\")[2:-1]:  # Skip header and footer rows\n    header_cell = row.find(\"th\")\n    print(header_cell.a.get_text(strip=True))  # Community name in link\n    print()"
  },
  {
   "cell_type": "code",
   "execution_count": null,
   "id": "9bf3d4ff",
   "metadata": {},
   "outputs": [],
   "source": "# Create structured data from table rows\ndata = []\n\nfor row in table.tbody.find_all(\"tr\")[2:-1]:  # Skip header and footer rows\n    cells = row.find_all(\"td\")\n    header_cell = row.find(\"th\")\n\n    # Extract area code and community name\n    area_code = cells[0].get_text(strip=True)\n    community_name = header_cell.a.get_text(strip=True)\n\n    # Add to data list\n    data.append({\"area_code\": area_code, \"community_name\": community_name})\n\ndata"
  },
  {
   "cell_type": "code",
   "execution_count": null,
   "id": "fd470491",
   "metadata": {},
   "outputs": [],
   "source": "# Convert to DataFrame and format area_code as integer\ncommunity_areas = pd.DataFrame(data)\ncommunity_areas[\"area_code\"] = community_areas[\"area_code\"].astype(\"int\")"
  },
  {
   "cell_type": "code",
   "execution_count": null,
   "id": "22e4b372",
   "metadata": {},
   "outputs": [],
   "source": "# Display first 5 rows of cleaned data\ncommunity_areas.head()"
  },
  {
   "cell_type": "code",
   "execution_count": null,
   "id": "9b5ef3ba",
   "metadata": {},
   "outputs": [],
   "source": "# Save data to CSV file\ncommunity_areas.to_csv(\"community_areas_master.csv\", index=False)"
  }
 ],
 "metadata": {
  "kernelspec": {
   "display_name": ".venv",
   "language": "python",
   "name": "python3"
  },
  "language_info": {
   "codemirror_mode": {
    "name": "ipython",
    "version": 3
   },
   "file_extension": ".py",
   "mimetype": "text/x-python",
   "name": "python",
   "nbconvert_exporter": "python",
   "pygments_lexer": "ipython3",
   "version": "3.13.7"
  }
 },
 "nbformat": 4,
 "nbformat_minor": 5
}