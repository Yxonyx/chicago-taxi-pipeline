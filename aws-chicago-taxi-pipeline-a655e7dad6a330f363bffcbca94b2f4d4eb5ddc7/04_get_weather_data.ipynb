{
 "cells": [
  {
   "cell_type": "markdown",
   "metadata": {},
   "source": [
    "# Chicago Weather Data Collection\n",
    "**Purpose**: Fetch hourly weather data from Open-Meteo API for Chicago coordinates  \n",
    "**Output**: Weather DataFrame with temperature, wind, precipitation for taxi trip correlation  \n",
    "**Date Range**: Historical data (T-2 months) to match taxi data availability"
   ]
  },
  {
   "cell_type": "code",
   "execution_count": null,
   "metadata": {},
   "outputs": [],
   "source": "# Import libraries for weather data collection\nimport requests\nimport pandas as pd\nfrom datetime import datetime\nfrom dateutil.relativedelta import relativedelta\n\n# Set Chicago coordinates for weather API\nCHICAGO_LAT = 41.85\nCHICAGO_LON = -87.65"
  },
  {
   "cell_type": "code",
   "execution_count": null,
   "metadata": {},
   "outputs": [],
   "source": "# Calculate date from 2 months ago\ntarget_date = datetime.now() - relativedelta(months=2)\ndate_str = target_date.strftime(\"%Y-%m-%d\")\n\nprint(f\"Fetching weather data for Chicago on: {date_str}\")"
  },
  {
   "cell_type": "code",
   "execution_count": null,
   "metadata": {},
   "outputs": [],
   "source": "# Setup API request for weather data\nurl = \"https://api.open-meteo.com/v1/forecast\"\nparams = {\n    \"latitude\": CHICAGO_LAT,\n    \"longitude\": CHICAGO_LON,\n    \"start_date\": date_str,\n    \"end_date\": date_str,\n    \"hourly\": \"temperature_2m,wind_speed_10m,rain,precipitation\"\n}\n\n# Get data from weather API\nresponse = requests.get(url, params=params)\nresponse.raise_for_status()\nweather_data = response.json()\n\nprint(f\"API Response Status: {response.status_code}\")"
  },
  {
   "cell_type": "code",
   "execution_count": null,
   "metadata": {},
   "outputs": [],
   "source": "# Create DataFrame from weather data\nweather_df = pd.DataFrame({\n    \"datetime\": pd.to_datetime(weather_data[\"hourly\"][\"time\"]),\n    \"temperature\": weather_data[\"hourly\"][\"temperature_2m\"],\n    \"wind_speed\": weather_data[\"hourly\"][\"wind_speed_10m\"], \n    \"rain\": weather_data[\"hourly\"][\"rain\"],\n    \"precipitation\": weather_data[\"hourly\"][\"precipitation\"]\n})\n\nprint(f\"Weather data retrieved: {len(weather_df)} hourly records\")\nweather_df.head()"
  },
  {
   "cell_type": "code",
   "execution_count": null,
   "metadata": {},
   "outputs": [],
   "source": "# Save weather data to CSV file\nimport os\noutput_path = \"csv/chicago_weather.csv\"\nos.makedirs(os.path.dirname(output_path), exist_ok=True)\nweather_df.to_csv(output_path, index=False)\nprint(f\"Weather data saved: {output_path}\")"
  }
 ],
 "metadata": {
  "kernelspec": {
   "display_name": "Python 3",
   "language": "python",
   "name": "python3"
  },
  "language_info": {
   "codemirror_mode": {
    "name": "ipython",
    "version": 3
   },
   "file_extension": ".py",
   "mimetype": "text/x-python",
   "name": "python",
   "nbconvert_exporter": "python",
   "pygments_lexer": "ipython3",
   "version": "3.8.0"
  }
 },
 "nbformat": 4,
 "nbformat_minor": 4
}