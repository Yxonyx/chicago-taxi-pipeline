{
 "cells": [
  {
   "cell_type": "markdown",
   "metadata": {},
   "source": [
    "# Taxi Data SQL Queries\n",
    "\n",
    "This notebook contains SQL queries for analyzing Chicago taxi data."
   ]
  },
  {
   "cell_type": "code",
   "execution_count": null,
   "metadata": {},
   "source": [
    "-- Task 1: Which 10 companies make the most money?\n",
    "-- Show company name and sum of fare (not in scientific notation)\n",
    "-- Sort by total fare in descending order\n",
    "\n",
    "SELECT \n",
    "    company,\n",
    "    CAST(SUM(fare) AS DECIMAL(15,2)) AS total_fare\n",
    "FROM taxi_trips\n",
    "WHERE company IS NOT NULL\n",
    "GROUP BY company\n",
    "ORDER BY total_fare DESC\n",
    "LIMIT 10;"
   ],
   "outputs": []
  },
  {
   "cell_type": "code",
   "execution_count": null,
   "metadata": {},
   "source": [
    "-- Task 2: Top 10 pickup community areas with the most rides\n",
    "-- Show community area name and count of rides\n",
    "-- Sort by ride count in descending order\n",
    "\n",
    "SELECT \n",
    "    pickup_community_area,\n",
    "    COUNT(*) AS ride_count\n",
    "FROM taxi_trips\n",
    "WHERE pickup_community_area IS NOT NULL\n",
    "GROUP BY pickup_community_area\n",
    "ORDER BY ride_count DESC\n",
    "LIMIT 10;"
   ],
   "outputs": []
  },
  {
   "cell_type": "code",
   "execution_count": null,
   "metadata": {},
   "source": [
    "-- Task 3: Count taxi rides per day of the week\n",
    "-- Show day of week by name and count of rides\n",
    "-- Order by actual weekday order (starting from Monday)\n",
    "\n",
    "SELECT \n",
    "    CASE EXTRACT(dow FROM trip_start_timestamp)\n",
    "        WHEN 1 THEN 'Monday'\n",
    "        WHEN 2 THEN 'Tuesday'\n",
    "        WHEN 3 THEN 'Wednesday'\n",
    "        WHEN 4 THEN 'Thursday'\n",
    "        WHEN 5 THEN 'Friday'\n",
    "        WHEN 6 THEN 'Saturday'\n",
    "        WHEN 0 THEN 'Sunday'\n",
    "    END AS day_of_week,\n",
    "    COUNT(*) AS ride_count\n",
    "FROM taxi_trips\n",
    "WHERE trip_start_timestamp IS NOT NULL\n",
    "GROUP BY EXTRACT(dow FROM trip_start_timestamp)\n",
    "ORDER BY \n",
    "    CASE EXTRACT(dow FROM trip_start_timestamp)\n",
    "        WHEN 1 THEN 1\n",
    "        WHEN 2 THEN 2\n",
    "        WHEN 3 THEN 3\n",
    "        WHEN 4 THEN 4\n",
    "        WHEN 5 THEN 5\n",
    "        WHEN 6 THEN 6\n",
    "        WHEN 0 THEN 7\n",
    "    END;"
   ],
   "outputs": []
  }
 ],
 "metadata": {
  "kernelspec": {
   "display_name": "Python 3",
   "language": "python",
   "name": "python3"
  },
  "language_info": {
   "codemirror_mode": {
    "name": "ipython",
    "version": 3
   },
   "file_extension": ".py",
   "mimetype": "text/x-python",
   "name": "python",
   "nbconvert_exporter": "python",
   "pygments_lexer": "ipython3",
   "version": "3.8.5"
  }
 },
 "nbformat": 4,
 "nbformat_minor": 4
}